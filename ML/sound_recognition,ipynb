{
 "cells": [
  {
   "cell_type": "code",
   "execution_count": 1,
   "metadata": {},
   "outputs": [
    {
     "name": "stderr",
     "output_type": "stream",
     "text": [
      "c:\\users\\adisa\\.conda\\envs\\ai\\lib\\site-packages\\torchaudio\\extension\\extension.py:13: UserWarning: torchaudio C++ extension is not available.\n",
      "  warnings.warn('torchaudio C++ extension is not available.')\n"
     ]
    },
    {
     "name": "stdout",
     "output_type": "stream",
     "text": [
      "PyTorch Version:  1.8.1\n",
      "Torchvision Version:  0.9.1\n",
      "Torchaudio Version:  0.8.1\n"
     ]
    }
   ],
   "source": [
    "from PIL import Image\n",
    "import matplotlib.pyplot as plt\n",
    "import matplotlib\n",
    "import glob\n",
    "import torch\n",
    "import torch.nn as nn\n",
    "import torch.nn.functional as F\n",
    "import torch.optim as optim\n",
    "from torch.utils.data import DataLoader, TensorDataset\n",
    "import torchvision\n",
    "import librosa\n",
    "import librosa.display\n",
    "from torchvision import datasets, models, transforms\n",
    "from torchvision.utils import make_grid\n",
    "import torchaudio\n",
    "from sklearn.model_selection import train_test_split\n",
    "import os\n",
    "import random\n",
    "import time\n",
    "import copy\n",
    "import numpy as np\n",
    "import pandas as pd\n",
    "from tensorflow.keras.utils import to_categorical\n",
    "from tqdm import tqdm\n",
    "import IPython.display as ipd\n",
    "import warnings\n",
    "warnings.filterwarnings('ignore')\n",
    "%matplotlib inline\n",
    "\n",
    "print(\"PyTorch Version: \",torch.__version__)\n",
    "print(\"Torchvision Version: \",torchvision.__version__)\n",
    "print(\"Torchaudio Version: \",torchaudio.__version__)"
   ]
  },
  {
   "cell_type": "markdown",
   "metadata": {},
   "source": [
    "# Parameters"
   ]
  },
  {
   "cell_type": "code",
   "execution_count": 3,
   "metadata": {},
   "outputs": [
    {
     "name": "stdout",
     "output_type": "stream",
     "text": [
      "Using 1 GPU(s) for training!\n"
     ]
    }
   ],
   "source": [
    "data_dir = \"./data\"\n",
    "batch_size = 128\n",
    "num_epochs = 10\n",
    "classes = ['zero', 'one', 'two', 'three', 'four', 'five', 'six', 'seven', 'eight', 'nine', 'backward', 'bed', 'bird', 'cat', 'dog', 'down', 'follow', 'forward', 'go', 'happy', 'house', 'learn', 'left', 'marvin', 'no', 'off', 'on', 'right', 'sheila', 'stop', 'tree', 'up', 'visual', 'wow', 'yes']\n",
    "num_classes = len(classes)\n",
    "\n",
    "device = torch.device(\"cuda\" if torch.cuda.is_available() else \"cpu\")\n",
    "n_gpu = 1\n",
    "\n",
    "if(n_gpu > 0):\n",
    "    print(\"Using {} GPU(s) for training!\".format(n_gpu))\n",
    "else:\n",
    "    print(\"Using CPU for training!\")"
   ]
  },
  {
   "cell_type": "markdown",
   "metadata": {},
   "source": [
    "# Speech commands dataset"
   ]
  },
  {
   "cell_type": "markdown",
   "metadata": {},
   "source": [
    "## Load, explore and augment data"
   ]
  },
  {
   "cell_type": "code",
   "execution_count": 5,
   "metadata": {},
   "outputs": [],
   "source": [
    "from torchaudio.datasets import SPEECHCOMMANDS\n",
    "import os\n",
    "\n",
    "class SubsetSC(SPEECHCOMMANDS):\n",
    "    def __init__(self, subset: str = None):\n",
    "        super().__init__(\"./\", download=True)\n",
    "\n",
    "        def load_list(filename):\n",
    "            filepath = os.path.join(self._path, filename)\n",
    "            with open(filepath) as fileobj:\n",
    "                return [os.path.join(self._path, line.strip()) for line in fileobj]\n",
    "\n",
    "        if subset == \"validation\":\n",
    "            self._walker = load_list(\"validation_list.txt\")\n",
    "        elif subset == \"testing\":\n",
    "            self._walker = load_list(\"testing_list.txt\")\n",
    "        elif subset == \"training\":\n",
    "            excludes = load_list(\"validation_list.txt\") + load_list(\"testing_list.txt\")\n",
    "            excludes = set(excludes)\n",
    "            self._walker = [w for w in self._walker if w not in excludes]\n",
    "\n",
    "\n",
    "# Create training and testing split of the data. We do not use validation in this tutorial.\n",
    "train_set = SubsetSC(\"training\")\n",
    "test_set = SubsetSC(\"testing\")\n",
    "val_set = SubsetSC(\"validation\")"
   ]
  },
  {
   "cell_type": "code",
   "execution_count": 6,
   "metadata": {},
   "outputs": [],
   "source": [
    "def label_to_index(word):\n",
    "    # Return the position of the word in labels\n",
    "    return torch.tensor(classes.index(word))\n",
    "\n",
    "def index_to_label(index):\n",
    "    # Return the word corresponding to the index in labels\n",
    "    # This is the inverse of label_to_index\n",
    "    return classes[index]"
   ]
  },
  {
   "cell_type": "code",
   "execution_count": 7,
   "metadata": {},
   "outputs": [
    {
     "name": "stdout",
     "output_type": "stream",
     "text": [
      "Shape of waveform: torch.Size([1, 16000])\n",
      "Sample rate of waveform: 16000\n"
     ]
    },
    {
     "data": {
      "image/png": "[encoded data removed]",
      "text/plain": [
       "<Figure size 432x288 with 1 Axes>"
      ]
     },
     "metadata": {
      "needs_background": "light"
     },
     "output_type": "display_data"
    }
   ],
   "source": [
    "waveform, sample_rate, label, speaker_id, utterance_number = train_set[4]\n",
    "num_channels = waveform.shape[0]\n",
    "print(\"Shape of waveform: {}\".format(waveform.size()))\n",
    "print(\"Sample rate of waveform: {}\".format(sample_rate))\n",
    "\n",
    "plt.plot(waveform.t().numpy());"
   ]
  },
  {
   "cell_type": "code",
   "execution_count": 14,
   "metadata": {},
   "outputs": [
    {
     "name": "stdout",
     "output_type": "stream",
     "text": [
      "Data loaded successfully!\n"
     ]
    }
   ],
   "source": [
    "def pad_sequence(batch):\n",
    "    # Make all tensor in a batch the same length by padding with zeros\n",
    "    batch = [item.t() for item in batch]\n",
    "    batch = torch.nn.utils.rnn.pad_sequence(batch, batch_first=True, padding_value=0.)\n",
    "    return batch.permute(0, 2, 1)\n",
    "\n",
    "def collate_fn(batch):\n",
    "\n",
    "    # A data tuple has the form:\n",
    "    # waveform, sample_rate, label, speaker_id, utterance_number\n",
    "\n",
    "    tensors, targets = [], []\n",
    "\n",
    "    # Gather in lists, and encode labels as indices\n",
    "    for waveform, _, label, *_ in batch:\n",
    "        tensors += [waveform]\n",
    "        targets += [label_to_index(label)]\n",
    "\n",
    "    # Group the list of tensors into a batched tensor\n",
    "    tensors = pad_sequence(tensors)\n",
    "    targets = torch.stack(targets)\n",
    "\n",
    "    return tensors, targets\n",
    "\n",
    "# Transformations\n",
    "transform = torchaudio.transforms.Resample(orig_freq=sample_rate, new_freq=8000)\n",
    "\n",
    "# Create datasets\n",
    "datasets_dict = {\n",
    "    \"train\": train_set,\n",
    "    \"test\": test_set,\n",
    "    \"val\": val_set,\n",
    "}\n",
    "\n",
    "# Create dataloaders\n",
    "dataloaders_dict = {mode: DataLoader(datasets_dict[mode], batch_size=batch_size, \n",
    "                                                   shuffle=True, collate_fn=collate_fn, pin_memory=False, num_workers=0) \n",
    "                    for mode in ['train', 'test', 'val']}\n",
    "\n",
    "print(\"Data loaded successfully!\")"
   ]
  },
  {
   "cell_type": "code",
   "execution_count": 8,
   "metadata": {},
   "outputs": [
    {
     "name": "stdout",
     "output_type": "stream",
     "text": [
      "Number of audio samples:  126815\n",
      "Samples in trainig set:  105829\n",
      "Samples in test set:  11005\n",
      "Samples in validation set:  9981\n"
     ]
    }
   ],
   "source": [
    "print(\"Number of audio samples: \", len(train_set) + len(test_set) + len(val_set))\n",
    "print(\"Samples in trainig set: \", len(train_set))\n",
    "print(\"Samples in test set: \", len(test_set))\n",
    "print(\"Samples in validation set: \", len(val_set))"
   ]
  },
  {
   "cell_type": "code",
   "execution_count": 11,
   "metadata": {},
   "outputs": [
    {
     "data": {
      "image/png": "[encoded data removed]",
      "text/plain": [
       "<Figure size 2592x1152 with 1 Axes>"
      ]
     },
     "metadata": {
      "needs_background": "light"
     },
     "output_type": "display_data"
    }
   ],
   "source": [
    "plt.rcParams['font.size'] = 20\n",
    "num_per_class = np.unique([x[2] for x in train_set], return_counts=True)\n",
    "plt.rcParams['figure.figsize'] = (36, 16)\n",
    "plt.bar(num_per_class[0], num_per_class[1], label=\"Test set\")\n",
    "plt.xticks(np.arange(len(num_per_class[0])))\n",
    "plt.xlabel('Class')\n",
    "plt.ylabel('Count')\n",
    "plt.grid('on', axis='y')\n",
    "\n",
    "num_per_class = np.unique([x[2] for x in test_set], return_counts=True)\n",
    "plt.rcParams['figure.figsize'] = (32, 16)\n",
    "plt.bar(num_per_class[0], num_per_class[1], label=\"Test set\")\n",
    "plt.xticks(np.arange(len(num_per_class[0])))\n",
    "plt.xlabel('Class')\n",
    "plt.ylabel('Count')\n",
    "plt.grid('on', axis='y')\n",
    "plt.legend()\n",
    "plt.show()\n",
    "plt.rcParams['font.size'] = 12"
   ]
  },
  {
   "cell_type": "code",
   "execution_count": 21,
   "metadata": {},
   "outputs": [
    {
     "data": {
      "text/html": [
       "\n",
       "                <audio  controls=\"controls\" >\n",
       "                    <source src=\"data:audio/wav;base64,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\" type=\"audio/wav\" />\n",
       "                    Your browser does not support the audio element.\n",
       "                </audio>\n",
       "              "
      ],
      "text/plain": [
       "<IPython.lib.display.Audio object>"
      ]
     },
     "execution_count": 21,
     "metadata": {},
     "output_type": "execute_result"
    }
   ],
   "source": [
    "# Lowerin sampling rate to 8000, doesn't really affect accuracy, lowers number of samples\n",
    "new_sample_rate = 8000\n",
    "transform = torchaudio.transforms.Resample(orig_freq=sample_rate, new_freq=new_sample_rate)\n",
    "transformed = transform(waveform)\n",
    "\n",
    "ipd.Audio(transformed.numpy(), rate=new_sample_rate)"
   ]
  },
  {
   "cell_type": "markdown",
   "metadata": {},
   "source": [
    "# Train CNN model"
   ]
  },
  {
   "cell_type": "code",
   "execution_count": 8,
   "metadata": {},
   "outputs": [
    {
     "name": "stdout",
     "output_type": "stream",
     "text": [
      "M5(\n",
      "  (conv1): Conv1d(1, 32, kernel_size=(80,), stride=(16,))\n",
      "  (bn1): BatchNorm1d(32, eps=1e-05, momentum=0.1, affine=True, track_running_stats=True)\n",
      "  (pool1): MaxPool1d(kernel_size=4, stride=4, padding=0, dilation=1, ceil_mode=False)\n",
      "  (conv2): Conv1d(32, 32, kernel_size=(3,), stride=(1,))\n",
      "  (bn2): BatchNorm1d(32, eps=1e-05, momentum=0.1, affine=True, track_running_stats=True)\n",
      "  (pool2): MaxPool1d(kernel_size=4, stride=4, padding=0, dilation=1, ceil_mode=False)\n",
      "  (conv3): Conv1d(32, 64, kernel_size=(3,), stride=(1,))\n",
      "  (bn3): BatchNorm1d(64, eps=1e-05, momentum=0.1, affine=True, track_running_stats=True)\n",
      "  (pool3): MaxPool1d(kernel_size=4, stride=4, padding=0, dilation=1, ceil_mode=False)\n",
      "  (conv4): Conv1d(64, 64, kernel_size=(3,), stride=(1,))\n",
      "  (bn4): BatchNorm1d(64, eps=1e-05, momentum=0.1, affine=True, track_running_stats=True)\n",
      "  (pool4): MaxPool1d(kernel_size=4, stride=4, padding=0, dilation=1, ceil_mode=False)\n",
      "  (fc1): Linear(in_features=64, out_features=35, bias=True)\n",
      ")\n"
     ]
    }
   ],
   "source": [
    "class M5(nn.Module):\n",
    "    def __init__(self, n_input=1, n_output=35, stride=16, n_channel=32):\n",
    "        super().__init__()\n",
    "        self.conv1 = nn.Conv1d(n_input, n_channel, kernel_size=80, stride=stride)\n",
    "        self.bn1 = nn.BatchNorm1d(n_channel)\n",
    "        self.pool1 = nn.MaxPool1d(4)\n",
    "        self.conv2 = nn.Conv1d(n_channel, n_channel, kernel_size=3)\n",
    "        self.bn2 = nn.BatchNorm1d(n_channel)\n",
    "        self.pool2 = nn.MaxPool1d(4)\n",
    "        self.conv3 = nn.Conv1d(n_channel, 2 * n_channel, kernel_size=3)\n",
    "        self.bn3 = nn.BatchNorm1d(2 * n_channel)\n",
    "        self.pool3 = nn.MaxPool1d(4)\n",
    "        self.conv4 = nn.Conv1d(2 * n_channel, 2 * n_channel, kernel_size=3)\n",
    "        self.bn4 = nn.BatchNorm1d(2 * n_channel)\n",
    "        self.pool4 = nn.MaxPool1d(4)\n",
    "        self.fc1 = nn.Linear(2 * n_channel, n_output)\n",
    "\n",
    "    def forward(self, x):\n",
    "        x = self.conv1(x)\n",
    "        x = F.relu(self.bn1(x))\n",
    "        x = self.pool1(x)\n",
    "        x = self.conv2(x)\n",
    "        x = F.relu(self.bn2(x))\n",
    "        x = self.pool2(x)\n",
    "        x = self.conv3(x)\n",
    "        x = F.relu(self.bn3(x))\n",
    "        x = self.pool3(x)\n",
    "        x = self.conv4(x)\n",
    "        x = F.relu(self.bn4(x))\n",
    "        x = self.pool4(x)\n",
    "        x = F.avg_pool1d(x, x.shape[-1])\n",
    "        x = x.permute(0, 2, 1)\n",
    "        x = self.fc1(x)\n",
    "        return F.log_softmax(x, dim=2)\n",
    "\n",
    "\n",
    "def initialize_model(num_classes):\n",
    "    \"\"\" Using M5 model \"\"\"\n",
    "    model = M5(n_input=num_channels, n_output=num_classes)\n",
    "    \n",
    "    if n_gpu > 1:  \n",
    "        print(\"Paralel computing!\")\n",
    "        model = nn.DataParallel(model) # paralelizam\n",
    "    return model\n",
    "\n",
    "# CNN model initialization\n",
    "model = initialize_model(num_classes)\n",
    "model = model.to(device)\n",
    "print(model)"
   ]
  },
  {
   "cell_type": "markdown",
   "metadata": {},
   "source": [
    "## Training function"
   ]
  },
  {
   "cell_type": "code",
   "execution_count": 23,
   "metadata": {},
   "outputs": [],
   "source": [
    "def train_model(model, dataloaders, criterion, optimizer, lr_scheduler, num_epochs=25):\n",
    "    start = time.time()\n",
    "\n",
    "    val_acc_history = []\n",
    "    val_loss_history = []\n",
    "    train_acc_history = []\n",
    "    train_loss_history = []\n",
    "    \n",
    "    best_model = copy.deepcopy(model.state_dict())\n",
    "    best_acc = 0.0\n",
    "    \n",
    "    for epoch in range(num_epochs):\n",
    "        print('Epoch {}/{}'.format(epoch+1, num_epochs))\n",
    "        print('-' * 10)\n",
    "\n",
    "        for phase in ['train', 'val']:\n",
    "            if phase == 'train':\n",
    "                model.train()  # training mode\n",
    "            else:\n",
    "                model.eval()   # test mode\n",
    "\n",
    "            running_loss = 0.0\n",
    "            running_corrects = 0\n",
    "\n",
    "            # Iterate through dataset\n",
    "            for inputs, labels in dataloaders[phase]:\n",
    "                inputs = inputs.to(device)\n",
    "                labels = labels.to(device)\n",
    "                \n",
    "                # apply transform\n",
    "                inputs = transform(inputs)\n",
    "                optimizer.zero_grad()\n",
    "\n",
    "                # forward phase\n",
    "                with torch.set_grad_enabled(phase == 'train'):\n",
    "                    # calculate loss and output from model\n",
    "                    outputs = model(inputs)\n",
    "                    loss = criterion(outputs.squeeze(), labels)\n",
    "\n",
    "                    if(n_gpu > 1):\n",
    "                        loss = loss.mean()\n",
    "                    _, preds = torch.max(outputs.squeeze(), 1)\n",
    "\n",
    "                    # backward phase if training \n",
    "                    if phase == 'train':\n",
    "                        loss.backward()\n",
    "                        optimizer.step()\n",
    "\n",
    "                # statistics\n",
    "                running_loss += loss.item() * inputs.size(0)\n",
    "                running_corrects += torch.sum(preds == labels.data)\n",
    "            \n",
    "            epoch_loss = running_loss / len(dataloaders[phase].dataset)\n",
    "            epoch_acc = running_corrects.double() / len(dataloaders[phase].dataset)\n",
    "            \n",
    "            print('{} Loss: {:.4f} Acc: {:.4f}'.format(phase, epoch_loss, epoch_acc))\n",
    "            \n",
    "            # lower learning rate if you get worse accuracy on validation set\n",
    "            if phase == 'val' and epoch > 0 and epoch_acc < val_acc_history[-1]:\n",
    "                lr_scheduler.step()\n",
    "                \n",
    "            # deep copy best model\n",
    "            if phase == 'val' and epoch_acc > best_acc:\n",
    "                best_acc = epoch_acc\n",
    "                best_model = copy.deepcopy(model.state_dict())\n",
    "                \n",
    "            if phase == 'val':\n",
    "                val_acc_history.append(epoch_acc)\n",
    "                val_loss_history.append(epoch_loss)\n",
    "            else:\n",
    "                train_acc_history.append(epoch_acc)\n",
    "                train_loss_history.append(epoch_loss)\n",
    "            if phase == 'val' and epoch%5 == 0:\n",
    "                MODEL_PATH = \"./model/m5_multigpu_epoch_{}.pt\".format(epoch)\n",
    "                if not os.path.exists(os.path.dirname(MODEL_PATH)):\n",
    "                    os.makedirs(os.path.dirname(MODEL_PATH))\n",
    "                torch.save(model.state_dict(), MODEL_PATH)\n",
    "                    \n",
    "        print()\n",
    "\n",
    "    time_elapsed = time.time() - start\n",
    "    print('Training finished in: {:.0f}m {:.0f}s'.format(time_elapsed // 60, time_elapsed % 60))\n",
    "    print('Best accuracy: {:4f}'.format(best_acc))\n",
    "\n",
    "    # loading best model\n",
    "    model.load_state_dict(best_model)\n",
    "    return model, val_acc_history, val_loss_history, train_acc_history, train_loss_history"
   ]
  },
  {
   "cell_type": "markdown",
   "metadata": {},
   "source": [
    "## Optimizer"
   ]
  },
  {
   "cell_type": "code",
   "execution_count": 9,
   "metadata": {},
   "outputs": [],
   "source": [
    "params_to_update = model.parameters()\n",
    "optimizer = optim.Adam(params_to_update)\n",
    "\n",
    "decay_rate = 0.95\n",
    "lr_scheduler = optim.lr_scheduler.ExponentialLR(optimizer=optimizer, gamma=decay_rate)"
   ]
  },
  {
   "cell_type": "markdown",
   "metadata": {},
   "source": [
    "## Training"
   ]
  },
  {
   "cell_type": "code",
   "execution_count": null,
   "metadata": {
    "scrolled": false
   },
   "outputs": [
    {
     "name": "stdout",
     "output_type": "stream",
     "text": [
      "Epoch 1/30\n",
      "----------\n",
      "train Loss: 1.3625 Acc: 0.6171\n",
      "val Loss: 1.1093 Acc: 0.6692\n",
      "\n",
      "Epoch 2/30\n",
      "----------\n",
      "train Loss: 0.9174 Acc: 0.7364\n",
      "val Loss: 0.7640 Acc: 0.7786\n",
      "\n",
      "Epoch 3/30\n",
      "----------\n",
      "train Loss: 0.7760 Acc: 0.7749\n",
      "val Loss: 0.7966 Acc: 0.7601\n",
      "\n",
      "Epoch 4/30\n",
      "----------\n",
      "train Loss: 0.6852 Acc: 0.8023\n",
      "val Loss: 0.6159 Acc: 0.8238\n",
      "\n",
      "Epoch 5/30\n",
      "----------\n",
      "train Loss: 0.6349 Acc: 0.8138\n",
      "val Loss: 0.5423 Acc: 0.8457\n",
      "\n",
      "Epoch 6/30\n",
      "----------\n",
      "train Loss: 0.5971 Acc: 0.8256\n",
      "val Loss: 0.5277 Acc: 0.8438\n",
      "\n",
      "Epoch 7/30\n",
      "----------\n",
      "train Loss: 0.5600 Acc: 0.8354\n",
      "val Loss: 0.4502 Acc: 0.8719\n",
      "\n",
      "Epoch 8/30\n",
      "----------\n",
      "train Loss: 0.5360 Acc: 0.8422\n",
      "val Loss: 0.4818 Acc: 0.8584\n",
      "\n",
      "Epoch 9/30\n",
      "----------\n",
      "train Loss: 0.5123 Acc: 0.8485\n",
      "val Loss: 0.4903 Acc: 0.8558\n",
      "\n",
      "Epoch 10/30\n",
      "----------\n",
      "train Loss: 0.4920 Acc: 0.8535\n",
      "val Loss: 0.4182 Acc: 0.8818\n",
      "\n",
      "Epoch 11/30\n",
      "----------\n",
      "train Loss: 0.4778 Acc: 0.8578\n",
      "val Loss: 0.4067 Acc: 0.8775\n",
      "\n",
      "Epoch 12/30\n",
      "----------\n",
      "train Loss: 0.4628 Acc: 0.8632\n",
      "val Loss: 0.3652 Acc: 0.8931\n",
      "\n",
      "Epoch 13/30\n",
      "----------\n",
      "train Loss: 0.4507 Acc: 0.8651\n",
      "val Loss: 0.3869 Acc: 0.8847\n",
      "\n",
      "Epoch 14/30\n",
      "----------\n",
      "train Loss: 0.4375 Acc: 0.8696\n",
      "val Loss: 0.3581 Acc: 0.8928\n",
      "\n",
      "Epoch 15/30\n",
      "----------\n",
      "train Loss: 0.4288 Acc: 0.8729\n",
      "val Loss: 0.3617 Acc: 0.8918\n",
      "\n",
      "Epoch 16/30\n",
      "----------\n",
      "train Loss: 0.4204 Acc: 0.8747\n",
      "val Loss: 0.3704 Acc: 0.8923\n",
      "\n",
      "Epoch 17/30\n",
      "----------\n",
      "train Loss: 0.4135 Acc: 0.8773\n",
      "val Loss: 0.3336 Acc: 0.8988\n",
      "\n",
      "Epoch 18/30\n",
      "----------\n",
      "train Loss: 0.4075 Acc: 0.8778\n",
      "val Loss: 0.3522 Acc: 0.8933\n",
      "\n",
      "Epoch 19/30\n",
      "----------\n",
      "train Loss: 0.3979 Acc: 0.8808\n",
      "val Loss: 0.3141 Acc: 0.9060\n",
      "\n",
      "Epoch 20/30\n",
      "----------\n",
      "train Loss: 0.3915 Acc: 0.8828\n",
      "val Loss: 0.3160 Acc: 0.9073\n",
      "\n",
      "Epoch 21/30\n",
      "----------\n",
      "train Loss: 0.3874 Acc: 0.8835\n",
      "val Loss: 0.3190 Acc: 0.9039\n",
      "\n",
      "Epoch 22/30\n",
      "----------\n",
      "train Loss: 0.3788 Acc: 0.8857\n",
      "val Loss: 0.3176 Acc: 0.9021\n",
      "\n",
      "Epoch 23/30\n",
      "----------\n",
      "train Loss: 0.3717 Acc: 0.8883\n",
      "val Loss: 0.2905 Acc: 0.9142\n",
      "\n",
      "Epoch 24/30\n",
      "----------\n",
      "train Loss: 0.3670 Acc: 0.8896\n",
      "val Loss: 0.3013 Acc: 0.9084\n",
      "\n",
      "Epoch 25/30\n",
      "----------\n",
      "train Loss: 0.3603 Acc: 0.8917\n",
      "val Loss: 0.2869 Acc: 0.9134\n",
      "\n",
      "Epoch 26/30\n",
      "----------\n",
      "train Loss: 0.3595 Acc: 0.8914\n",
      "val Loss: 0.2976 Acc: 0.9126\n",
      "\n",
      "Epoch 27/30\n",
      "----------\n",
      "train Loss: 0.3526 Acc: 0.8926\n",
      "val Loss: 0.2734 Acc: 0.9171\n",
      "\n",
      "Epoch 28/30\n",
      "----------\n",
      "train Loss: 0.3492 Acc: 0.8943\n"
     ]
    }
   ],
   "source": [
    "criterion = F.nll_loss\n",
    "\n",
    "# Treniranje\n",
    "model, val_acc_history, val_loss_history, train_acc_history, train_loss_history = train_model(model, dataloaders_dict, criterion, optimizer, \n",
    "                                             lr_scheduler, num_epochs=30)"
   ]
  },
  {
   "cell_type": "markdown",
   "metadata": {},
   "source": [
    "## Load/Save model"
   ]
  },
  {
   "cell_type": "code",
   "execution_count": 26,
   "metadata": {},
   "outputs": [
    {
     "data": {
      "text/plain": [
       "<All keys matched successfully>"
      ]
     },
     "execution_count": 26,
     "metadata": {},
     "output_type": "execute_result"
    }
   ],
   "source": [
    "MODEL_PATH = \"./model/m5_multigpu_best_30_epochs.pt\"\n",
    "#if not os.path.exists(os.path.dirname(MODEL_PATH)):\n",
    "#    os.makedirs(os.path.dirname(MODEL_PATH))\n",
    "#torch.save(model.state_dict(), MODEL_PATH)\n",
    "model.load_state_dict(torch.load(MODEL_PATH))"
   ]
  },
  {
   "cell_type": "code",
   "execution_count": 65,
   "metadata": {},
   "outputs": [],
   "source": [
    "train_acc_history = [torch.Tensor.cpu(x).numpy() for x in train_acc_history]\n",
    "val_acc_history = [torch.Tensor.cpu(x).numpy() for x in val_acc_history]"
   ]
  },
  {
   "cell_type": "code",
   "execution_count": 31,
   "metadata": {},
   "outputs": [],
   "source": [
    "# Save/load loss and accuracy history arrray\n",
    "load = True\n",
    "if(load):\n",
    "    train_acc_history = np.loadtxt(\"./model/m5_multigpu_30_epochs_tr_acc.txt\")\n",
    "    train_loss_history = np.loadtxt(\"./model/m5_multigpu_30_epochs_tr_loss.txt\")\n",
    "    val_acc_history = np.loadtxt(\"./model/m5_multigpu_30_epochs_val_acc.txt\")\n",
    "    val_loss_history = np.loadtxt(\"./model/m5_multigpu_30_epochs_val_loss.txt\")\n",
    "else:\n",
    "    np.savetxt(\"./model/m5_multigpu_30_epochs_tr_acc1.txt\", train_acc_history)\n",
    "    np.savetxt(\"./model/m5_multigpu_30_epochs_tr_loss1.txt\", train_loss_history)\n",
    "    np.savetxt(\"./model/m5_multigpu_30_epochs_val_acc1.txt\", val_acc_history)\n",
    "    np.savetxt(\"./model/m5_multigpu_30_epochs_val_loss1.txt\", val_loss_history)"
   ]
  },
  {
   "cell_type": "markdown",
   "metadata": {},
   "source": [
    "## Loss and accuracy history during training"
   ]
  },
  {
   "cell_type": "code",
   "execution_count": 32,
   "metadata": {},
   "outputs": [
    {
     "data": {
      "image/png": "[encoded data removed]",
      "text/plain": [
       "<Figure size 1080x432 with 1 Axes>"
      ]
     },
     "metadata": {
      "needs_background": "light"
     },
     "output_type": "display_data"
    }
   ],
   "source": [
    "plt.title('Loss history')\n",
    "plt.plot(train_loss_history)\n",
    "plt.xlabel('Epoch')\n",
    "plt.ylabel('Loss')\n",
    "plt.xticks(range(0,len(train_loss_history)))\n",
    "plt.gcf().set_size_inches(15, 6)\n",
    "plt.show()"
   ]
  },
  {
   "cell_type": "code",
   "execution_count": 34,
   "metadata": {},
   "outputs": [
    {
     "data": {
      "image/png": "[encoded data removed]",
      "text/plain": [
       "<Figure size 1080x432 with 1 Axes>"
      ]
     },
     "metadata": {
      "needs_background": "light"
     },
     "output_type": "display_data"
    }
   ],
   "source": [
    "plt.title('Accuracy history')\n",
    "plt.plot(train_acc_history)\n",
    "plt.xlabel('Epoch')\n",
    "plt.ylabel('Accuracy')\n",
    "plt.xticks(range(0,len(train_acc_history)))\n",
    "plt.gcf().set_size_inches(15, 6)\n",
    "plt.show()"
   ]
  },
  {
   "cell_type": "markdown",
   "metadata": {},
   "source": [
    "# Testing the model on test set"
   ]
  },
  {
   "cell_type": "code",
   "execution_count": 116,
   "metadata": {},
   "outputs": [
    {
     "name": "stdout",
     "output_type": "stream",
     "text": [
      "torch.Size([128, 1, 8000])\n",
      "torch.Size([128])\n",
      "torch.Size([128])\n",
      "torch.Size([128, 1, 35])\n"
     ]
    },
    {
     "ename": "ZeroDivisionError",
     "evalue": "division by zero",
     "output_type": "error",
     "traceback": [
      "\u001b[0;31m---------------------------------------------------------------------------\u001b[0m",
      "\u001b[0;31mZeroDivisionError\u001b[0m                         Traceback (most recent call last)",
      "\u001b[0;32m<ipython-input-116-e9b623f00b50>\u001b[0m in \u001b[0;36m<module>\u001b[0;34m\u001b[0m\n\u001b[1;32m     25\u001b[0m \u001b[0;34m\u001b[0m\u001b[0m\n\u001b[1;32m     26\u001b[0m print('Model accuracy ' + str(total) + ' test audios: %.2f %%' % (\n\u001b[0;32m---> 27\u001b[0;31m     100 * correct / total))\n\u001b[0m\u001b[1;32m     28\u001b[0m \u001b[0;34m\u001b[0m\u001b[0m\n\u001b[1;32m     29\u001b[0m \u001b[0minference_time\u001b[0m \u001b[0;34m=\u001b[0m \u001b[0mnp\u001b[0m\u001b[0;34m.\u001b[0m\u001b[0mmean\u001b[0m\u001b[0;34m(\u001b[0m\u001b[0minference_time\u001b[0m\u001b[0;34m,\u001b[0m \u001b[0mdtype\u001b[0m\u001b[0;34m=\u001b[0m\u001b[0;34m'float64'\u001b[0m\u001b[0;34m)\u001b[0m\u001b[0;34m\u001b[0m\u001b[0;34m\u001b[0m\u001b[0m\n",
      "\u001b[0;31mZeroDivisionError\u001b[0m: division by zero"
     ]
    }
   ],
   "source": [
    "correct = 0\n",
    "total = 0\n",
    "inference_time = []\n",
    "model.eval()\n",
    "with torch.no_grad():\n",
    "    for inputs, labels in dataloaders_dict[\"test\"]:\n",
    "        \n",
    "        inputs = inputs.to(device)\n",
    "        inputs = transform(inputs)\n",
    "        labels = labels.to(device)\n",
    "        print(inputs.shape)\n",
    "        print(labels.shape)\n",
    "        \n",
    "        start = time.time()\n",
    "        outputs = model(inputs)\n",
    "        _, predicted = torch.max(outputs.squeeze(), 1)\n",
    "        print(predicted.shape)\n",
    "        print(outputs.shape)\n",
    "        break\n",
    "        \n",
    "        inference_time.append((time.time() - start) / labels.size(0))\n",
    "        \n",
    "        total += labels.size(0)\n",
    "        correct += (predicted == labels).sum().item()\n",
    "        \n",
    "print('Model accuracy ' + str(total) + ' test audios: %.2f %%' % (\n",
    "    100 * correct / total))\n",
    "\n",
    "inference_time = np.mean(inference_time, dtype='float64')\n",
    "print('Average inference time: {:.0f} microseconds'.format(inference_time * 1e6))\n",
    "\n",
    "print(\"Number of wrong predictions: \" + str(total - correct) + \" / \" + str(total))"
   ]
  },
  {
   "cell_type": "code",
   "execution_count": 141,
   "metadata": {},
   "outputs": [],
   "source": [
    "custom_set = []\n",
    "labels = []\n",
    "path = \"./SpeechCommands/custom/*\"\n",
    "for file in glob.glob(path):\n",
    "    audio = librosa.load(file, sr=16000)\n",
    "    label = os.path.basename(file)[0]\n",
    "    custom_set.append(torch.tensor(audio[0].reshape(1, audio[0].shape[0])))\n",
    "    labels.append(int(label))"
   ]
  },
  {
   "cell_type": "code",
   "execution_count": 148,
   "metadata": {},
   "outputs": [
    {
     "name": "stdout",
     "output_type": "stream",
     "text": [
      "Model accuracy 10 test audios: 100.00 %\n",
      "Average inference time: nan microseconds\n",
      "Number of wrong predictions: 0 / 10\n"
     ]
    }
   ],
   "source": [
    "correct = 0\n",
    "total = 0\n",
    "model.eval()\n",
    "with torch.no_grad():\n",
    "    for inputs, label in zip(custom_set, labels):\n",
    "        inputs = inputs.reshape((1, inputs.shape[0], inputs.shape[1]))\n",
    "        inputs = inputs.to(device)\n",
    "        inputs = transform(inputs)\n",
    "        \n",
    "        outputs = model(inputs)\n",
    "        _, predicted = torch.max(outputs.flatten(), 0)\n",
    "        predicted = torch.Tensor.cpu(predicted).numpy()\n",
    "        \n",
    "        total += 1\n",
    "        correct += (predicted == label)\n",
    "        \n",
    "print('Model accuracy ' + str(total) + ' test audios: %.2f %%' % (\n",
    "    100 * correct / total))\n",
    "\n",
    "inference_time = np.mean(inference_time, dtype='float64')\n",
    "print('Average inference time: {:.0f} microseconds'.format(inference_time * 1e6))\n",
    "\n",
    "print(\"Number of wrong predictions: \" + str(total - correct) + \" / \" + str(total))"
   ]
  },
  {
   "cell_type": "code",
   "execution_count": null,
   "metadata": {},
   "outputs": [],
   "source": [
    "print(dataloaders_dict)"
   ]
  },
  {
   "cell_type": "code",
   "execution_count": 19,
   "metadata": {},
   "outputs": [
    {
     "name": "stdout",
     "output_type": "stream",
     "text": [
      "./SpeechCommands/custom\\0_adisa.wav\n",
      "./SpeechCommands/custom\\1_adisa.wav\n",
      "./SpeechCommands/custom\\2_adisa.wav\n",
      "./SpeechCommands/custom\\3_adisa.wav\n",
      "./SpeechCommands/custom\\4_adisa.wav\n",
      "./SpeechCommands/custom\\5_adisa.wav\n",
      "./SpeechCommands/custom\\6_adisa.wav\n",
      "./SpeechCommands/custom\\7_adisa.wav\n",
      "./SpeechCommands/custom\\8_adisa.wav\n",
      "./SpeechCommands/custom\\9_adisa.wav\n",
      "label:  [0, 1, 2, 3, 4, 5, 6, 7, 8, 9]\n",
      "predicted:  [0, 1, 2, 3, 4, 5, 6, 7, 8, 9]\n"
     ]
    },
    {
     "data": {
      "text/plain": [
       "[array(9, dtype=int64)]"
      ]
     },
     "execution_count": 19,
     "metadata": {},
     "output_type": "execute_result"
    }
   ],
   "source": [
    "from PIL import Image\n",
    "import matplotlib.pyplot as plt\n",
    "import matplotlib\n",
    "import glob\n",
    "import torch\n",
    "import torch.nn as nn\n",
    "import torch.nn.functional as F\n",
    "import torch.optim as optim\n",
    "import librosa\n",
    "import os\n",
    "import random\n",
    "import time\n",
    "import copy\n",
    "import numpy as np\n",
    "import warnings\n",
    "warnings.filterwarnings('ignore')\n",
    "\n",
    "\n",
    "def predict_class():\n",
    "\n",
    "    class M5(nn.Module):\n",
    "        def __init__(self, n_input=1, n_output=35, stride=16, n_channel=32):\n",
    "            super().__init__()\n",
    "            self.conv1 = nn.Conv1d(n_input, n_channel, kernel_size=80, stride=stride)\n",
    "            self.bn1 = nn.BatchNorm1d(n_channel)\n",
    "            self.pool1 = nn.MaxPool1d(4)\n",
    "            self.conv2 = nn.Conv1d(n_channel, n_channel, kernel_size=3)\n",
    "            self.bn2 = nn.BatchNorm1d(n_channel)\n",
    "            self.pool2 = nn.MaxPool1d(4)\n",
    "            self.conv3 = nn.Conv1d(n_channel, 2 * n_channel, kernel_size=3)\n",
    "            self.bn3 = nn.BatchNorm1d(2 * n_channel)\n",
    "            self.pool3 = nn.MaxPool1d(4)\n",
    "            self.conv4 = nn.Conv1d(2 * n_channel, 2 * n_channel, kernel_size=3)\n",
    "            self.bn4 = nn.BatchNorm1d(2 * n_channel)\n",
    "            self.pool4 = nn.MaxPool1d(4)\n",
    "            self.fc1 = nn.Linear(2 * n_channel, n_output)\n",
    "\n",
    "        def forward(self, x):\n",
    "            x = self.conv1(x)\n",
    "            x = F.relu(self.bn1(x))\n",
    "            x = self.pool1(x)\n",
    "            x = self.conv2(x)\n",
    "            x = F.relu(self.bn2(x))\n",
    "            x = self.pool2(x)\n",
    "            x = self.conv3(x)\n",
    "            x = F.relu(self.bn3(x))\n",
    "            x = self.pool3(x)\n",
    "            x = self.conv4(x)\n",
    "            x = F.relu(self.bn4(x))\n",
    "            x = self.pool4(x)\n",
    "            x = F.avg_pool1d(x, x.shape[-1])\n",
    "            x = x.permute(0, 2, 1)\n",
    "            x = self.fc1(x)\n",
    "            return F.log_softmax(x, dim=2)\n",
    "\n",
    "    def initialize_model(num_classes):\n",
    "        \"\"\" Using M5 model \"\"\"\n",
    "        model = M5(n_input=1, n_output=num_classes)\n",
    "        return model\n",
    "\n",
    "    # CNN model initialization\n",
    "    num_classes = 35\n",
    "    device = device = torch.device(\"cuda\" if torch.cuda.is_available() else \"cpu\")\n",
    "    model = initialize_model(num_classes)\n",
    "    model = model.to(device)\n",
    "\n",
    "    transform = torchaudio.transforms.Resample(orig_freq=16000, new_freq=8000)\n",
    "    MODEL_PATH = \"./model/m5_multigpu_best_30_epochs.pt\"\n",
    "    model.load_state_dict(torch.load(MODEL_PATH, map_location=device))\n",
    "\n",
    "    custom_set = []\n",
    "    labels = []\n",
    "    path = \"./SpeechCommands/custom/*\"\n",
    "    for file in glob.glob(path):\n",
    "        print(file)\n",
    "        audio = librosa.load(file, sr=16000)\n",
    "        label = os.path.basename(file)[0]\n",
    "        custom_set.append(torch.tensor(audio[0].reshape(1, audio[0].shape[0])))\n",
    "        labels.append(int(label))\n",
    "    \n",
    "    predictions = []\n",
    "    \n",
    "    model.eval()\n",
    "    with torch.no_grad():\n",
    "        for inputs, label in zip(custom_set, labels):\n",
    "            inputs = inputs.reshape((1, inputs.shape[0], inputs.shape[1]))\n",
    "            inputs = inputs.to(device)\n",
    "            inputs = transform(inputs)\n",
    "            \n",
    "            outputs = model(inputs)\n",
    "            _, predicted = torch.max(outputs.flatten(), 0)\n",
    "            predicted = torch.Tensor.cpu(predicted).numpy()\n",
    "            predictions.append(int(predicted))\n",
    "    print(\"label: \", labels)\n",
    "    print(\"predicted: \", predictions)\n",
    "    return [predicted]\n",
    "\n",
    "predict_class()"
   ]
  }
 ],
 "metadata": {
  "kernelspec": {
   "display_name": "Python 3",
   "language": "python",
   "name": "python3"
  },
  "language_info": {
   "codemirror_mode": {
    "name": "ipython",
    "version": 3
   },
   "file_extension": ".py",
   "mimetype": "text/x-python",
   "name": "python",
   "nbconvert_exporter": "python",
   "pygments_lexer": "ipython3",
   "version": "3.7.10"
  }
 },
 "nbformat": 4,
 "nbformat_minor": 2
}
